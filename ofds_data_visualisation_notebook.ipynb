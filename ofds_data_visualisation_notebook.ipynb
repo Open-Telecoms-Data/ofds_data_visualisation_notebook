{
  "cells": [
    {
      "cell_type": "markdown",
      "source": [
        "# OFDS Data Visualisation Notebook"
      ],
      "metadata": {
        "id": "CN1gi_ASdld2"
      }
    },
    {
      "cell_type": "markdown",
      "source": [
        "This notebook loads OFDS data and visualises it on a map.\n",
        "\n",
        "Your data files must each be a JSON-formatted [OFDS network package](https://open-fibre-data-standard.readthedocs.io/en/latest/reference/publication_formats/json.html#small-files-and-api-responses-option). You can use the [OFDS Convert, Validate, Explore tool](https://ofds.cove.opendataservices.coop/) to convert your data between different publication formats."
      ],
      "metadata": {
        "id": "MSr0h8lrnbZZ"
      }
    },
    {
      "cell_type": "markdown",
      "source": [
        "## Setup"
      ],
      "metadata": {
        "id": "MYqtJ7ardpIL"
      }
    },
    {
      "cell_type": "markdown",
      "metadata": {
        "id": "OrU7oC9nPztT"
      },
      "source": [
        "Install requirements."
      ]
    },
    {
      "cell_type": "code",
      "execution_count": null,
      "metadata": {
        "cellView": "form",
        "id": "So8ZMPRXPztV"
      },
      "outputs": [],
      "source": [
        "#@title\n",
        "%pip install ipyleaflet ipywidgets seaborn > pip-log.txt\n",
        "\n",
        "!rm -rf data\n",
        "!mkdir data"
      ]
    },
    {
      "cell_type": "markdown",
      "source": [
        "## Load data"
      ],
      "metadata": {
        "id": "9RlR6m__eFUs"
      }
    },
    {
      "cell_type": "markdown",
      "source": [
        "If you are using Google Colaboratory to execute this notebook, you can use the cells in this section to load your data files. Otherwise, you must place the files in the `/data` directory."
      ],
      "metadata": {
        "id": "OdaK9hMmma-8"
      }
    },
    {
      "cell_type": "markdown",
      "source": [
        "### From your local file system"
      ],
      "metadata": {
        "id": "IQGodM0ueJB2"
      }
    },
    {
      "cell_type": "code",
      "source": [
        "#@title\n",
        "from google.colab import files\n",
        "\n",
        "uploaded = files.upload()\n",
        "\n",
        "for filename in uploaded.keys():\n",
        "  !mv {filename} data/{filename}"
      ],
      "metadata": {
        "cellView": "form",
        "id": "tligPlhJeG0S"
      },
      "execution_count": null,
      "outputs": []
    },
    {
      "cell_type": "markdown",
      "source": [
        "### From a Google Drive folder"
      ],
      "metadata": {
        "id": "_qqY9sfHeHYa"
      }
    },
    {
      "cell_type": "code",
      "source": [
        "#@title\n",
        "from pydrive.auth import GoogleAuth\n",
        "from pydrive.drive import GoogleDrive\n",
        "from google.colab import auth\n",
        "from oauth2client.client import GoogleCredentials\n",
        "\n",
        "folder_id = input('Enter the ID of the Google Drive folder containing your data ')\n",
        "\n",
        "auth.authenticate_user()\n",
        "gauth = GoogleAuth()\n",
        "gauth.credentials = GoogleCredentials.get_application_default()\n",
        "drive = GoogleDrive(gauth)\n",
        "\n",
        "file_list = drive.ListFile({\n",
        "    'q': f\"'{folder_id}' in parents and trashed=false\",\n",
        "    'includeItemsFromAllDrives': True,\n",
        "    'supportsAllDrives': True,\n",
        "  }).GetList()\n",
        "\n",
        "for drive_file in file_list:\n",
        "  drive_file.GetContentFile(f'data/{drive_file[\"title\"]}')\n"
      ],
      "metadata": {
        "cellView": "form",
        "id": "b0qqQ69ngOhd"
      },
      "execution_count": null,
      "outputs": []
    },
    {
      "cell_type": "markdown",
      "source": [
        "## Render map"
      ],
      "metadata": {
        "id": "MHrfM7Xxdr04"
      }
    },
    {
      "cell_type": "code",
      "execution_count": 10,
      "metadata": {
        "colab": {
          "base_uri": "https://localhost:8080/",
          "height": 621,
          "referenced_widgets": [
            "20294f1d11cc4ba98163b0071344dad8",
            "91dfcfb1b06840fba5e7dc6a329eca60",
            "17999782d8e048ef91ee76e45093d959",
            "d47c213f5b8b4f66915ac26a38ee44fd",
            "5d3d3224fae843c28a1083585960bf29",
            "cced6edd553b493289e741277b1c3e22",
            "5dcaffccf45840e79df8195b23260b35",
            "1d4f1b6f6c654b5bbac37bbe9b2a3ab3",
            "2c1ce80d3fcc48b18a7112c3a79db8ba",
            "939fd22d33d94c8f9a1dbac650751044",
            "92e39c887c2045128059bb2c76704e08",
            "48eb335925f24cac935c67d3415971f6",
            "f8cbc0338f19452b8a450c25d061971a",
            "f2c532914ca644c7b20b670844c20ad8",
            "a091a9d73a7a4e8aa2ee482f94058b01",
            "ecb2b99508db4839ba79e321a07207d8",
            "6e25b0ee39a84d19a08bebbde23d0c61",
            "737775583b244b14ba8317ecd2535dc9",
            "ef41fb601b084e46802094975d0d0823",
            "65a24361164f4f6fb28291a0bb91ae2c",
            "1311dc8cd27649b8b89ba226fb0c4cf9",
            "96db624ece7243b7a80036ba3d6d3bbd"
          ]
        },
        "cellView": "form",
        "id": "yUOvOVS9PztX",
        "outputId": "e7e82dfc-0402-4d46-f99b-8f2433e50e4a"
      },
      "outputs": [
        {
          "output_type": "display_data",
          "data": {
            "text/plain": [
              "Map(center=[7.9465, 1.0232], controls=(ZoomControl(options=['position', 'zoom_in_text', 'zoom_in_title', 'zoom…"
            ],
            "application/vnd.jupyter.widget-view+json": {
              "version_major": 2,
              "version_minor": 0,
              "model_id": "20294f1d11cc4ba98163b0071344dad8"
            }
          },
          "metadata": {
            "application/vnd.jupyter.widget-view+json": {
              "colab": {
                "custom_widget_manager": {
                  "url": "https://ssl.gstatic.com/colaboratory-static/widgets/colab-cdn-widget-manager/b3e629b1971e1542/manager.min.js"
                }
              }
            }
          }
        }
      ],
      "source": [
        "#@title\n",
        "import json\n",
        "import os\n",
        "import seaborn as sns\n",
        "\n",
        "from ipyleaflet import (\n",
        "  CircleMarker,\n",
        "  LayerGroup,\n",
        "  LayersControl,\n",
        "  Map,\n",
        "  Polyline\n",
        ")\n",
        "\n",
        "from ipywidgets import (\n",
        "    HTML,\n",
        "    Layout\n",
        ")\n",
        "\n",
        "# Load data\n",
        "networks = []\n",
        "\n",
        "data_directory = 'data'\n",
        "\n",
        "for filename in os.listdir(data_directory):\n",
        "  path = os.path.join(data_directory, filename)\n",
        "\n",
        "  if os.path.isfile(path):\n",
        "    with open(path, 'r') as f:\n",
        "        data = json.load(f)\n",
        "\n",
        "    if 'networks' in data:\n",
        "      for network in data['networks']:\n",
        "        networks.append(network)\n",
        "    else:\n",
        "      print(f\"{path} is not an OFDS network package (missing 'networks' key)\")\n",
        "\n",
        "# Generate a palette with a different colour for each network\n",
        "palette = sns.color_palette(None, len(networks)).as_hex()\n",
        "\n",
        "# Generate the map\n",
        "m = Map(\n",
        "    center = (7.9465, 1.0232),\n",
        "    zoom = 7,\n",
        "    layout = Layout(width='80%', height='600px')\n",
        "    )\n",
        "\n",
        "# Add each network to the map\n",
        "layer_groups = []\n",
        "\n",
        "for network in networks:\n",
        "    \n",
        "    group = LayerGroup(\n",
        "        name = network['name']\n",
        "    )\n",
        "\n",
        "    color = palette[networks.index(network)]\n",
        "\n",
        "    for span in network.get('spans', []):\n",
        "        \n",
        "        popup = HTML(\n",
        "            value = f\"\"\"\n",
        "              Name: {span.get('name', '')}</br>\n",
        "              Phase: {span['phase'].get('name') if 'phase' in span else ''}</br>\n",
        "              Status: {span.get('status', '')}</br>\n",
        "              Ready for service date: {span.get('readyForServiceDate', '')}</br>\n",
        "              Physical infrastructure provider: {span['physicalInfrastructureProvider'].get('name', '') if 'physicalInfrastructureProvider' in span else ''}</br>\n",
        "              Network providers: {', '.join([organisationReference['name'] if 'name' in organisationReference else '' for organisationReference in span['networkProviders']]) if 'networkProviders' in span else ''}</br>\n",
        "              Supplier: {span['physicalInfrastructureProvider'].get('name', '') if 'physicalInfrastructureProvider' in span else ''}</br>\n",
        "              Transmission medium: {', '.join(span.get('transmissionMedium', []) if 'transmissionMedium' in span else '')}</br>\n",
        "              Deployment: {', '.join(span.get('deployment', []) if 'deployment' in span else '')}</br>\n",
        "              Dark fibre availability: {span.get('darkFibre', '')}</br>\n",
        "              Fibre type: {span.get('fibreType', '')}</br>\n",
        "              Fibre count: {span.get('fibreCount', '')}</br>\n",
        "              Fibre length: {span.get('fibreLength', '')}</br>\n",
        "              Technologies: {', '.join(span.get('technologies', []) if 'technologies' in span else '')}</br>\n",
        "              Capacity: {span.get('capacity', '')}Gbps\n",
        "\n",
        "            \"\"\"\n",
        "        )\n",
        "\n",
        "        line = Polyline(\n",
        "            locations = [[position[1],position[0]] for position in span['route']['coordinates']],\n",
        "            color = color,\n",
        "            fill = False\n",
        "        )\n",
        "\n",
        "        line.popup = popup\n",
        "\n",
        "        group.add_layer(line)\n",
        "    \n",
        "    for node in network.get('nodes', []):\n",
        "        \n",
        "        popup = HTML(\n",
        "            value = f\"\"\"\n",
        "              Name: {node.get('name', '')}</br>\n",
        "              Phase: {node['phase'].get('name') if 'phase' in node else ''}</br>\n",
        "              Status: {node.get('status', '')}</br>\n",
        "              Type: {', '.join(node.get('type', [])) if 'type' in node else ''}</br>\n",
        "              Access point: {node.get('accessPoint', '')}</br>\n",
        "              Power availability: {node.get('power', '')}</br>\n",
        "              Technologies: {', '.join(node.get('technologies', []) if 'technologies' in node else '')}</br>\n",
        "              Physical infrastructure provider: {node['physicalInfrastructureProvider'].get('name', '') if 'physicalInfrastructureProvider' in node else ''}</br>\n",
        "              Network providers: {', '.join([organisationReference['name'] if 'name' in organisationReference else '' for organisationReference in node['networkProviders']]) if 'networkProviders' in node else ''}\n",
        "            \"\"\"\n",
        "        )\n",
        "\n",
        "        marker = CircleMarker(\n",
        "            location = (node['location']['coordinates'][1], node['location']['coordinates'][0]),\n",
        "            radius = 2,\n",
        "            color = color,\n",
        "            fill_color = color\n",
        "        )\n",
        "\n",
        "        marker.popup = popup\n",
        "\n",
        "        group.add_layer(marker)\n",
        "    \n",
        "    layer_groups.append(group)\n",
        "\n",
        "for group in layer_groups:\n",
        "    m.add_layer(group)\n",
        "\n",
        "m.add_control(LayersControl(position='topright'))\n",
        "\n",
        "m"
      ]
    }
  ],
  "metadata": {
    "kernelspec": {
      "display_name": "ofds-data-visualisation-notebook",
      "language": "python",
      "name": "python3"
    },
    "language_info": {
      "codemirror_mode": {
        "name": "ipython",
        "version": 3
      },
      "file_extension": ".py",
      "mimetype": "text/x-python",
      "name": "python",
      "nbconvert_exporter": "python",
      "pygments_lexer": "ipython3",
      "version": "3.11.0"
    },
    "orig_nbformat": 4,
    "vscode": {
      "interpreter": {
        "hash": "be35a5b32713752f3feff93dee2e96f3623674b65ce0fca3415e03c19cc1767b"
      }
    },
    "colab": {
      "provenance": []
    },
    "widgets": {
      "application/vnd.jupyter.widget-state+json": {
        "20294f1d11cc4ba98163b0071344dad8": {
          "model_module": "jupyter-leaflet",
          "model_name": "LeafletMapModel",
          "model_module_version": "^0.17",
          "state": {
            "_dom_classes": [],
            "_model_module": "jupyter-leaflet",
            "_model_module_version": "^0.17",
            "_model_name": "LeafletMapModel",
            "_view_count": null,
            "_view_module": "jupyter-leaflet",
            "_view_module_version": "^0.17",
            "_view_name": "LeafletMapView",
            "bottom": 15958,
            "bounce_at_zoom_limits": true,
            "box_zoom": true,
            "center": [
              7.9465,
              1.0232
            ],
            "close_popup_on_click": true,
            "controls": [
              "IPY_MODEL_91dfcfb1b06840fba5e7dc6a329eca60",
              "IPY_MODEL_17999782d8e048ef91ee76e45093d959",
              "IPY_MODEL_d47c213f5b8b4f66915ac26a38ee44fd"
            ],
            "crs": {
              "name": "EPSG3857",
              "custom": false
            },
            "default_style": "IPY_MODEL_5d3d3224fae843c28a1083585960bf29",
            "double_click_zoom": true,
            "dragging": true,
            "dragging_style": "IPY_MODEL_cced6edd553b493289e741277b1c3e22",
            "east": 7.657470703125001,
            "fullscreen": false,
            "inertia": true,
            "inertia_deceleration": 3000,
            "inertia_max_speed": 1500,
            "interpolation": "bilinear",
            "keyboard": true,
            "keyboard_pan_offset": 80,
            "keyboard_zoom_offset": 1,
            "layers": [
              "IPY_MODEL_5dcaffccf45840e79df8195b23260b35",
              "IPY_MODEL_1d4f1b6f6c654b5bbac37bbe9b2a3ab3"
            ],
            "layout": "IPY_MODEL_2c1ce80d3fcc48b18a7112c3a79db8ba",
            "left": 15874,
            "max_zoom": null,
            "min_zoom": null,
            "modisdate": "2023-02-27",
            "north": 11.199956869621824,
            "options": [
              "bounce_at_zoom_limits",
              "box_zoom",
              "center",
              "close_popup_on_click",
              "double_click_zoom",
              "dragging",
              "fullscreen",
              "inertia",
              "inertia_deceleration",
              "inertia_max_speed",
              "interpolation",
              "keyboard",
              "keyboard_pan_offset",
              "keyboard_zoom_offset",
              "max_zoom",
              "min_zoom",
              "prefer_canvas",
              "scroll_wheel_zoom",
              "tap",
              "tap_tolerance",
              "touch_zoom",
              "world_copy_jump",
              "zoom",
              "zoom_animation_threshold",
              "zoom_delta",
              "zoom_snap"
            ],
            "panes": {},
            "prefer_canvas": false,
            "right": 17081,
            "scroll_wheel_zoom": false,
            "south": 4.674979814820256,
            "style": "IPY_MODEL_939fd22d33d94c8f9a1dbac650751044",
            "tap": true,
            "tap_tolerance": 15,
            "top": 15358,
            "touch_zoom": true,
            "west": -5.603027343750001,
            "window_url": "https://k18ywj110xc-496ff2e9c6d22116-0-colab.googleusercontent.com/outputframe.html?vrz=colab-20230224-060133-RC00_512042903",
            "world_copy_jump": false,
            "zoom": 7,
            "zoom_animation_threshold": 4,
            "zoom_delta": 1,
            "zoom_snap": 1
          }
        },
        "91dfcfb1b06840fba5e7dc6a329eca60": {
          "model_module": "jupyter-leaflet",
          "model_name": "LeafletZoomControlModel",
          "model_module_version": "^0.17",
          "state": {
            "_model_module": "jupyter-leaflet",
            "_model_module_version": "^0.17",
            "_model_name": "LeafletZoomControlModel",
            "_view_count": null,
            "_view_module": "jupyter-leaflet",
            "_view_module_version": "^0.17",
            "_view_name": "LeafletZoomControlView",
            "options": [
              "position",
              "zoom_in_text",
              "zoom_in_title",
              "zoom_out_text",
              "zoom_out_title"
            ],
            "position": "topleft",
            "zoom_in_text": "+",
            "zoom_in_title": "Zoom in",
            "zoom_out_text": "-",
            "zoom_out_title": "Zoom out"
          }
        },
        "17999782d8e048ef91ee76e45093d959": {
          "model_module": "jupyter-leaflet",
          "model_name": "LeafletAttributionControlModel",
          "model_module_version": "^0.17",
          "state": {
            "_model_module": "jupyter-leaflet",
            "_model_module_version": "^0.17",
            "_model_name": "LeafletAttributionControlModel",
            "_view_count": null,
            "_view_module": "jupyter-leaflet",
            "_view_module_version": "^0.17",
            "_view_name": "LeafletAttributionControlView",
            "options": [
              "position",
              "prefix"
            ],
            "position": "bottomright",
            "prefix": "ipyleaflet"
          }
        },
        "d47c213f5b8b4f66915ac26a38ee44fd": {
          "model_module": "jupyter-leaflet",
          "model_name": "LeafletLayersControlModel",
          "model_module_version": "^0.17",
          "state": {
            "_model_module": "jupyter-leaflet",
            "_model_module_version": "^0.17",
            "_model_name": "LeafletLayersControlModel",
            "_view_count": null,
            "_view_module": "jupyter-leaflet",
            "_view_module_version": "^0.17",
            "_view_name": "LeafletLayersControlView",
            "options": [
              "position"
            ],
            "position": "topright"
          }
        },
        "5d3d3224fae843c28a1083585960bf29": {
          "model_module": "jupyter-leaflet",
          "model_name": "LeafletMapStyleModel",
          "model_module_version": "^0.17",
          "state": {
            "_model_module": "jupyter-leaflet",
            "_model_module_version": "^0.17",
            "_model_name": "LeafletMapStyleModel",
            "_view_count": null,
            "_view_module": "@jupyter-widgets/base",
            "_view_module_version": "1.2.0",
            "_view_name": "StyleView",
            "cursor": "grab"
          }
        },
        "cced6edd553b493289e741277b1c3e22": {
          "model_module": "jupyter-leaflet",
          "model_name": "LeafletMapStyleModel",
          "model_module_version": "^0.17",
          "state": {
            "_model_module": "jupyter-leaflet",
            "_model_module_version": "^0.17",
            "_model_name": "LeafletMapStyleModel",
            "_view_count": null,
            "_view_module": "@jupyter-widgets/base",
            "_view_module_version": "1.2.0",
            "_view_name": "StyleView",
            "cursor": "move"
          }
        },
        "5dcaffccf45840e79df8195b23260b35": {
          "model_module": "jupyter-leaflet",
          "model_name": "LeafletTileLayerModel",
          "model_module_version": "^0.17",
          "state": {
            "_model_module": "jupyter-leaflet",
            "_model_module_version": "^0.17",
            "_model_name": "LeafletTileLayerModel",
            "_view_count": null,
            "_view_module": "jupyter-leaflet",
            "_view_module_version": "^0.17",
            "_view_name": "LeafletTileLayerView",
            "attribution": "&copy; <a href=\"https://www.openstreetmap.org/copyright\">OpenStreetMap</a> contributors",
            "base": true,
            "bottom": true,
            "bounds": null,
            "detect_retina": false,
            "loading": false,
            "max_native_zoom": null,
            "max_zoom": 19,
            "min_native_zoom": null,
            "min_zoom": 1,
            "name": "OpenStreetMap.Mapnik",
            "no_wrap": false,
            "opacity": 1,
            "options": [
              "attribution",
              "bounds",
              "detect_retina",
              "max_native_zoom",
              "max_zoom",
              "min_native_zoom",
              "min_zoom",
              "no_wrap",
              "tile_size",
              "tms",
              "zoom_offset"
            ],
            "pane": "",
            "popup": null,
            "popup_max_height": null,
            "popup_max_width": 300,
            "popup_min_width": 50,
            "show_loading": false,
            "subitems": [],
            "tile_size": 256,
            "tms": false,
            "url": "https://tile.openstreetmap.org/{z}/{x}/{y}.png",
            "visible": true,
            "zoom_offset": 0
          }
        },
        "1d4f1b6f6c654b5bbac37bbe9b2a3ab3": {
          "model_module": "jupyter-leaflet",
          "model_name": "LeafletLayerGroupModel",
          "model_module_version": "^0.17",
          "state": {
            "_model_module": "jupyter-leaflet",
            "_model_module_version": "^0.17",
            "_model_name": "LeafletLayerGroupModel",
            "_view_count": null,
            "_view_module": "jupyter-leaflet",
            "_view_module_version": "^0.17",
            "_view_name": "LeafletLayerGroupView",
            "base": false,
            "bottom": false,
            "layers": [
              "IPY_MODEL_92e39c887c2045128059bb2c76704e08",
              "IPY_MODEL_48eb335925f24cac935c67d3415971f6",
              "IPY_MODEL_f8cbc0338f19452b8a450c25d061971a"
            ],
            "name": "Ghana Fibre Network",
            "options": [],
            "pane": "",
            "popup": null,
            "popup_max_height": null,
            "popup_max_width": 300,
            "popup_min_width": 50,
            "subitems": []
          }
        },
        "2c1ce80d3fcc48b18a7112c3a79db8ba": {
          "model_module": "@jupyter-widgets/base",
          "model_name": "LayoutModel",
          "model_module_version": "1.2.0",
          "state": {
            "_model_module": "@jupyter-widgets/base",
            "_model_module_version": "1.2.0",
            "_model_name": "LayoutModel",
            "_view_count": null,
            "_view_module": "@jupyter-widgets/base",
            "_view_module_version": "1.2.0",
            "_view_name": "LayoutView",
            "align_content": null,
            "align_items": null,
            "align_self": null,
            "border": null,
            "bottom": null,
            "display": null,
            "flex": null,
            "flex_flow": null,
            "grid_area": null,
            "grid_auto_columns": null,
            "grid_auto_flow": null,
            "grid_auto_rows": null,
            "grid_column": null,
            "grid_gap": null,
            "grid_row": null,
            "grid_template_areas": null,
            "grid_template_columns": null,
            "grid_template_rows": null,
            "height": "600px",
            "justify_content": null,
            "justify_items": null,
            "left": null,
            "margin": null,
            "max_height": null,
            "max_width": null,
            "min_height": null,
            "min_width": null,
            "object_fit": null,
            "object_position": null,
            "order": null,
            "overflow": null,
            "overflow_x": null,
            "overflow_y": null,
            "padding": null,
            "right": null,
            "top": null,
            "visibility": null,
            "width": "80%"
          }
        },
        "939fd22d33d94c8f9a1dbac650751044": {
          "model_module": "jupyter-leaflet",
          "model_name": "LeafletMapStyleModel",
          "model_module_version": "^0.17",
          "state": {
            "_model_module": "jupyter-leaflet",
            "_model_module_version": "^0.17",
            "_model_name": "LeafletMapStyleModel",
            "_view_count": null,
            "_view_module": "@jupyter-widgets/base",
            "_view_module_version": "1.2.0",
            "_view_name": "StyleView",
            "cursor": "grab"
          }
        },
        "92e39c887c2045128059bb2c76704e08": {
          "model_module": "jupyter-leaflet",
          "model_name": "LeafletPolylineModel",
          "model_module_version": "^0.17",
          "state": {
            "_model_module": "jupyter-leaflet",
            "_model_module_version": "^0.17",
            "_model_name": "LeafletPolylineModel",
            "_view_count": null,
            "_view_module": "jupyter-leaflet",
            "_view_module_version": "^0.17",
            "_view_name": "LeafletPolylineView",
            "base": false,
            "bottom": false,
            "color": "#1f77b4",
            "dash_array": null,
            "draggable": false,
            "fill": false,
            "fill_color": null,
            "fill_opacity": 0.2,
            "line_cap": "round",
            "line_join": "round",
            "locations": [
              [
                5.626,
                -0.173
              ],
              [
                5.807,
                -0.178
              ],
              [
                5.971,
                -0.112
              ],
              [
                5.963,
                -0.211
              ],
              [
                6.17,
                -0.321
              ],
              [
                6.29,
                -0.488
              ],
              [
                6.421,
                -0.56
              ],
              [
                6.533,
                -0.752
              ],
              [
                6.607,
                -0.867
              ],
              [
                6.585,
                -1.101
              ],
              [
                6.623,
                -1.304
              ],
              [
                6.727,
                -1.461
              ],
              [
                6.713,
                -1.628
              ]
            ],
            "name": "",
            "no_clip": true,
            "opacity": 1,
            "options": [
              "color",
              "dash_array",
              "draggable",
              "fill",
              "fill_color",
              "fill_opacity",
              "line_cap",
              "line_join",
              "no_clip",
              "opacity",
              "pointer_events",
              "smooth_factor",
              "stroke",
              "transform",
              "weight"
            ],
            "pane": "",
            "pointer_events": "",
            "popup": "IPY_MODEL_f2c532914ca644c7b20b670844c20ad8",
            "popup_max_height": null,
            "popup_max_width": 300,
            "popup_min_width": 50,
            "rotation": true,
            "scaling": true,
            "smooth_factor": 1,
            "stroke": true,
            "subitems": [],
            "transform": false,
            "uniform_scaling": false,
            "weight": 5
          }
        },
        "48eb335925f24cac935c67d3415971f6": {
          "model_module": "jupyter-leaflet",
          "model_name": "LeafletCircleMarkerModel",
          "model_module_version": "^0.17",
          "state": {
            "_model_module": "jupyter-leaflet",
            "_model_module_version": "^0.17",
            "_model_name": "LeafletCircleMarkerModel",
            "_view_count": null,
            "_view_module": "jupyter-leaflet",
            "_view_module_version": "^0.17",
            "_view_name": "LeafletCircleMarkerView",
            "base": false,
            "bottom": false,
            "color": "#1f77b4",
            "dash_array": null,
            "fill": true,
            "fill_color": "#1f77b4",
            "fill_opacity": 0.2,
            "line_cap": "round",
            "line_join": "round",
            "location": [
              5.625,
              -0.174
            ],
            "name": "",
            "opacity": 1,
            "options": [
              "color",
              "dash_array",
              "fill",
              "fill_color",
              "fill_opacity",
              "line_cap",
              "line_join",
              "opacity",
              "pointer_events",
              "radius",
              "stroke",
              "weight"
            ],
            "pane": "",
            "pointer_events": "",
            "popup": "IPY_MODEL_a091a9d73a7a4e8aa2ee482f94058b01",
            "popup_max_height": null,
            "popup_max_width": 300,
            "popup_min_width": 50,
            "radius": 2,
            "stroke": true,
            "subitems": [],
            "weight": 5
          }
        },
        "f8cbc0338f19452b8a450c25d061971a": {
          "model_module": "jupyter-leaflet",
          "model_name": "LeafletCircleMarkerModel",
          "model_module_version": "^0.17",
          "state": {
            "_model_module": "jupyter-leaflet",
            "_model_module_version": "^0.17",
            "_model_name": "LeafletCircleMarkerModel",
            "_view_count": null,
            "_view_module": "jupyter-leaflet",
            "_view_module_version": "^0.17",
            "_view_name": "LeafletCircleMarkerView",
            "base": false,
            "bottom": false,
            "color": "#1f77b4",
            "dash_array": null,
            "fill": true,
            "fill_color": "#1f77b4",
            "fill_opacity": 0.2,
            "line_cap": "round",
            "line_join": "round",
            "location": [
              6.711,
              -1.628
            ],
            "name": "",
            "opacity": 1,
            "options": [
              "color",
              "dash_array",
              "fill",
              "fill_color",
              "fill_opacity",
              "line_cap",
              "line_join",
              "opacity",
              "pointer_events",
              "radius",
              "stroke",
              "weight"
            ],
            "pane": "",
            "pointer_events": "",
            "popup": "IPY_MODEL_ecb2b99508db4839ba79e321a07207d8",
            "popup_max_height": null,
            "popup_max_width": 300,
            "popup_min_width": 50,
            "radius": 2,
            "stroke": true,
            "subitems": [],
            "weight": 5
          }
        },
        "f2c532914ca644c7b20b670844c20ad8": {
          "model_module": "@jupyter-widgets/controls",
          "model_name": "HTMLModel",
          "model_module_version": "1.5.0",
          "state": {
            "_dom_classes": [],
            "_model_module": "@jupyter-widgets/controls",
            "_model_module_version": "1.5.0",
            "_model_name": "HTMLModel",
            "_view_count": null,
            "_view_module": "@jupyter-widgets/controls",
            "_view_module_version": "1.5.0",
            "_view_name": "HTMLView",
            "description": "",
            "description_tooltip": null,
            "layout": "IPY_MODEL_6e25b0ee39a84d19a08bebbde23d0c61",
            "placeholder": "​",
            "style": "IPY_MODEL_737775583b244b14ba8317ecd2535dc9",
            "value": "\n              Name: Accra to Kumasi</br>\n              Phase: NextGen Phase 1</br>\n              Status: operational</br>\n              Ready for service date: 2018-01-01</br>\n              Physical infrastructure provider: FibreCo</br>\n              Network providers: FastWeb</br>\n              Supplier: FibreCo</br>\n              Transmission medium: fibre</br>\n              Deployment: belowGround</br>\n              Dark fibre availability: True</br>\n              Fibre type: G.652</br>\n              Fibre count: 24</br>\n              Fibre length: 276000</br>\n              Technologies: sdh</br>\n              Capacity: 4.976Gbps\n\n            "
          }
        },
        "a091a9d73a7a4e8aa2ee482f94058b01": {
          "model_module": "@jupyter-widgets/controls",
          "model_name": "HTMLModel",
          "model_module_version": "1.5.0",
          "state": {
            "_dom_classes": [],
            "_model_module": "@jupyter-widgets/controls",
            "_model_module_version": "1.5.0",
            "_model_name": "HTMLModel",
            "_view_count": null,
            "_view_module": "@jupyter-widgets/controls",
            "_view_module_version": "1.5.0",
            "_view_name": "HTMLView",
            "description": "",
            "description_tooltip": null,
            "layout": "IPY_MODEL_ef41fb601b084e46802094975d0d0823",
            "placeholder": "​",
            "style": "IPY_MODEL_65a24361164f4f6fb28291a0bb91ae2c",
            "value": "\n              Name: Accra</br>\n              Phase: NextGen Phase 1</br>\n              Status: operational</br>\n              Type: pop</br>\n              Access point: True</br>\n              Power availability: True</br>\n              Technologies: ip</br>\n              Physical infrastructure provider: FibreCo</br>\n              Network providers: FastWeb\n            "
          }
        },
        "ecb2b99508db4839ba79e321a07207d8": {
          "model_module": "@jupyter-widgets/controls",
          "model_name": "HTMLModel",
          "model_module_version": "1.5.0",
          "state": {
            "_dom_classes": [],
            "_model_module": "@jupyter-widgets/controls",
            "_model_module_version": "1.5.0",
            "_model_name": "HTMLModel",
            "_view_count": null,
            "_view_module": "@jupyter-widgets/controls",
            "_view_module_version": "1.5.0",
            "_view_name": "HTMLView",
            "description": "",
            "description_tooltip": null,
            "layout": "IPY_MODEL_1311dc8cd27649b8b89ba226fb0c4cf9",
            "placeholder": "​",
            "style": "IPY_MODEL_96db624ece7243b7a80036ba3d6d3bbd",
            "value": "\n              Name: Kumasi</br>\n              Phase: NextGen Phase 1</br>\n              Status: operational</br>\n              Type: pop</br>\n              Access point: False</br>\n              Power availability: True</br>\n              Technologies: ip</br>\n              Physical infrastructure provider: FibreCo</br>\n              Network providers: FastWeb\n            "
          }
        },
        "6e25b0ee39a84d19a08bebbde23d0c61": {
          "model_module": "@jupyter-widgets/base",
          "model_name": "LayoutModel",
          "model_module_version": "1.2.0",
          "state": {
            "_model_module": "@jupyter-widgets/base",
            "_model_module_version": "1.2.0",
            "_model_name": "LayoutModel",
            "_view_count": null,
            "_view_module": "@jupyter-widgets/base",
            "_view_module_version": "1.2.0",
            "_view_name": "LayoutView",
            "align_content": null,
            "align_items": null,
            "align_self": null,
            "border": null,
            "bottom": null,
            "display": null,
            "flex": null,
            "flex_flow": null,
            "grid_area": null,
            "grid_auto_columns": null,
            "grid_auto_flow": null,
            "grid_auto_rows": null,
            "grid_column": null,
            "grid_gap": null,
            "grid_row": null,
            "grid_template_areas": null,
            "grid_template_columns": null,
            "grid_template_rows": null,
            "height": null,
            "justify_content": null,
            "justify_items": null,
            "left": null,
            "margin": null,
            "max_height": null,
            "max_width": null,
            "min_height": null,
            "min_width": null,
            "object_fit": null,
            "object_position": null,
            "order": null,
            "overflow": null,
            "overflow_x": null,
            "overflow_y": null,
            "padding": null,
            "right": null,
            "top": null,
            "visibility": null,
            "width": null
          }
        },
        "737775583b244b14ba8317ecd2535dc9": {
          "model_module": "@jupyter-widgets/controls",
          "model_name": "DescriptionStyleModel",
          "model_module_version": "1.5.0",
          "state": {
            "_model_module": "@jupyter-widgets/controls",
            "_model_module_version": "1.5.0",
            "_model_name": "DescriptionStyleModel",
            "_view_count": null,
            "_view_module": "@jupyter-widgets/base",
            "_view_module_version": "1.2.0",
            "_view_name": "StyleView",
            "description_width": ""
          }
        },
        "ef41fb601b084e46802094975d0d0823": {
          "model_module": "@jupyter-widgets/base",
          "model_name": "LayoutModel",
          "model_module_version": "1.2.0",
          "state": {
            "_model_module": "@jupyter-widgets/base",
            "_model_module_version": "1.2.0",
            "_model_name": "LayoutModel",
            "_view_count": null,
            "_view_module": "@jupyter-widgets/base",
            "_view_module_version": "1.2.0",
            "_view_name": "LayoutView",
            "align_content": null,
            "align_items": null,
            "align_self": null,
            "border": null,
            "bottom": null,
            "display": null,
            "flex": null,
            "flex_flow": null,
            "grid_area": null,
            "grid_auto_columns": null,
            "grid_auto_flow": null,
            "grid_auto_rows": null,
            "grid_column": null,
            "grid_gap": null,
            "grid_row": null,
            "grid_template_areas": null,
            "grid_template_columns": null,
            "grid_template_rows": null,
            "height": null,
            "justify_content": null,
            "justify_items": null,
            "left": null,
            "margin": null,
            "max_height": null,
            "max_width": null,
            "min_height": null,
            "min_width": null,
            "object_fit": null,
            "object_position": null,
            "order": null,
            "overflow": null,
            "overflow_x": null,
            "overflow_y": null,
            "padding": null,
            "right": null,
            "top": null,
            "visibility": null,
            "width": null
          }
        },
        "65a24361164f4f6fb28291a0bb91ae2c": {
          "model_module": "@jupyter-widgets/controls",
          "model_name": "DescriptionStyleModel",
          "model_module_version": "1.5.0",
          "state": {
            "_model_module": "@jupyter-widgets/controls",
            "_model_module_version": "1.5.0",
            "_model_name": "DescriptionStyleModel",
            "_view_count": null,
            "_view_module": "@jupyter-widgets/base",
            "_view_module_version": "1.2.0",
            "_view_name": "StyleView",
            "description_width": ""
          }
        },
        "1311dc8cd27649b8b89ba226fb0c4cf9": {
          "model_module": "@jupyter-widgets/base",
          "model_name": "LayoutModel",
          "model_module_version": "1.2.0",
          "state": {
            "_model_module": "@jupyter-widgets/base",
            "_model_module_version": "1.2.0",
            "_model_name": "LayoutModel",
            "_view_count": null,
            "_view_module": "@jupyter-widgets/base",
            "_view_module_version": "1.2.0",
            "_view_name": "LayoutView",
            "align_content": null,
            "align_items": null,
            "align_self": null,
            "border": null,
            "bottom": null,
            "display": null,
            "flex": null,
            "flex_flow": null,
            "grid_area": null,
            "grid_auto_columns": null,
            "grid_auto_flow": null,
            "grid_auto_rows": null,
            "grid_column": null,
            "grid_gap": null,
            "grid_row": null,
            "grid_template_areas": null,
            "grid_template_columns": null,
            "grid_template_rows": null,
            "height": null,
            "justify_content": null,
            "justify_items": null,
            "left": null,
            "margin": null,
            "max_height": null,
            "max_width": null,
            "min_height": null,
            "min_width": null,
            "object_fit": null,
            "object_position": null,
            "order": null,
            "overflow": null,
            "overflow_x": null,
            "overflow_y": null,
            "padding": null,
            "right": null,
            "top": null,
            "visibility": null,
            "width": null
          }
        },
        "96db624ece7243b7a80036ba3d6d3bbd": {
          "model_module": "@jupyter-widgets/controls",
          "model_name": "DescriptionStyleModel",
          "model_module_version": "1.5.0",
          "state": {
            "_model_module": "@jupyter-widgets/controls",
            "_model_module_version": "1.5.0",
            "_model_name": "DescriptionStyleModel",
            "_view_count": null,
            "_view_module": "@jupyter-widgets/base",
            "_view_module_version": "1.2.0",
            "_view_name": "StyleView",
            "description_width": ""
          }
        }
      }
    }
  },
  "nbformat": 4,
  "nbformat_minor": 0
}